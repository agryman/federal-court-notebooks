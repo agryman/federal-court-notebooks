{
 "cells": [
  {
   "cell_type": "markdown",
   "id": "4ec0faf2-288b-4347-a604-0d8cf46f6e04",
   "metadata": {},
   "source": [
    "# Guideline Examples\n",
    "*Arthur Ryman, lasted updated 2025-03-30*"
   ]
  },
  {
   "cell_type": "markdown",
   "id": "fe35d5d2-d58e-4a09-8e0e-44b3b0108f69",
   "metadata": {},
   "source": [
    "## Introduction\n",
    "\n",
    "This notebook uses my Python package `federal-court-deadlines` to compute the Federal Court deadlines given in the examples of the \n",
    "[Guideline](https://www.fct-cf.gc.ca/en/pages/representing-yourself/deadlines-calculator/guideline) document."
   ]
  },
  {
   "cell_type": "markdown",
   "id": "de730b0a-390f-4c13-b95d-8944df4df5fc",
   "metadata": {},
   "source": [
    "## Google Colab Setup\n",
    "\n",
    "This notebook is designed to run on [Google Colab](https://colab.research.google.com/) which \n",
    "\n",
    "The Python package `federal-court-deadlines` uses the `holidays` package.\n",
    "Both packages must therefore be installed into the Colab runtime environment.\n",
    "\n",
    "Install the `holidays` package from [PyPI](https://pypi.org/), the Python Package Index.\n",
    "PyPI is where Python developers host their Open Source projects."
   ]
  },
  {
   "cell_type": "code",
   "execution_count": 1,
   "id": "bafe2b9f-d802-4162-9651-1cce21d659c9",
   "metadata": {},
   "outputs": [
    {
     "name": "stdout",
     "output_type": "stream",
     "text": [
      "Requirement already satisfied: holidays in /Users/arthurryman/Documents/repositories/GitHub/agryman/federal-court-notebooks/venv/lib/python3.13/site-packages (0.69)\n",
      "Requirement already satisfied: python-dateutil in /Users/arthurryman/Documents/repositories/GitHub/agryman/federal-court-notebooks/venv/lib/python3.13/site-packages (from holidays) (2.9.0.post0)\n",
      "Requirement already satisfied: six>=1.5 in /Users/arthurryman/Documents/repositories/GitHub/agryman/federal-court-notebooks/venv/lib/python3.13/site-packages (from python-dateutil->holidays) (1.17.0)\n"
     ]
    }
   ],
   "source": [
    "!pip install holidays"
   ]
  },
  {
   "cell_type": "markdown",
   "id": "06666a89-8c69-49f0-8174-512cb0446f3f",
   "metadata": {},
   "source": [
    "Next, install `federal-court-deadlines` from my public GitHub repository.\n",
    "If this project turns out to be useful, I'll add it to PyPI."
   ]
  },
  {
   "cell_type": "code",
   "execution_count": 2,
   "id": "f8c274a2-3a31-479e-a4a5-93759ba9ca37",
   "metadata": {},
   "outputs": [
    {
     "name": "stdout",
     "output_type": "stream",
     "text": [
      "Collecting git+https://github.com/agryman/federal-court-deadlines.git\n",
      "  Cloning https://github.com/agryman/federal-court-deadlines.git to /private/var/folders/xx/gq_3svps3917kcrvgx3ht1vr0000gn/T/pip-req-build-_1ft4rsf\n",
      "  Running command git clone --filter=blob:none --quiet https://github.com/agryman/federal-court-deadlines.git /private/var/folders/xx/gq_3svps3917kcrvgx3ht1vr0000gn/T/pip-req-build-_1ft4rsf\n",
      "  Resolved https://github.com/agryman/federal-court-deadlines.git to commit ba0bd465b9bfae6d0544dfae4b73113714cb2d52\n",
      "  Installing build dependencies ... \u001b[?25ldone\n",
      "\u001b[?25h  Getting requirements to build wheel ... \u001b[?25ldone\n",
      "\u001b[?25h  Preparing metadata (pyproject.toml) ... \u001b[?25ldone\n",
      "\u001b[?25h"
     ]
    }
   ],
   "source": [
    "!pip install git+https://github.com/agryman/federal-court-deadlines.git"
   ]
  },
  {
   "cell_type": "markdown",
   "id": "a3c9b015-641d-4979-93f5-83d30016b13c",
   "metadata": {},
   "source": [
    "## General Example 1\n",
    "\n",
    "I copied all the examples given in the Guideline document in Python `Example` objects.\n",
    "Import and print the first general example."
   ]
  },
  {
   "cell_type": "code",
   "execution_count": 3,
   "id": "b1c3c593-f037-40bb-877b-5607544db44a",
   "metadata": {},
   "outputs": [
    {
     "data": {
      "text/plain": [
       "Example(description='General Example 1 - 10 Days', event_date=datetime.date(2012, 5, 31), number_of_days=10, after_event=True, deadline_date=datetime.date(2012, 6, 11))"
      ]
     },
     "execution_count": 3,
     "metadata": {},
     "output_type": "execute_result"
    }
   ],
   "source": [
    "from deadlines.examples import general_example_1\n",
    "\n",
    "general_example_1"
   ]
  },
  {
   "cell_type": "markdown",
   "id": "caa3c7e1-2beb-4a67-bbdd-6604cea2990d",
   "metadata": {},
   "source": [
    "Note that each example gives the event date. the number of days from the event to the deadline, and the deadline date."
   ]
  },
  {
   "cell_type": "markdown",
   "id": "755f5324-f051-4bca-b80b-48b43b2a087e",
   "metadata": {},
   "source": [
    "Print the event date."
   ]
  },
  {
   "cell_type": "code",
   "execution_count": 4,
   "id": "1e56a845-0bbf-4d71-919e-281e92043c1f",
   "metadata": {},
   "outputs": [
    {
     "data": {
      "text/plain": [
       "datetime.date(2012, 5, 31)"
      ]
     },
     "execution_count": 4,
     "metadata": {},
     "output_type": "execute_result"
    }
   ],
   "source": [
    "general_example_1.event_date"
   ]
  },
  {
   "cell_type": "markdown",
   "id": "0c300eb4-f3f8-4da2-99f4-bb59c61a7ff9",
   "metadata": {},
   "source": [
    "Print the number of days to the deadline."
   ]
  },
  {
   "cell_type": "code",
   "execution_count": 5,
   "id": "4f6e4a82-f1f4-4c80-99da-fe8a5aa2df09",
   "metadata": {},
   "outputs": [
    {
     "data": {
      "text/plain": [
       "10"
      ]
     },
     "execution_count": 5,
     "metadata": {},
     "output_type": "execute_result"
    }
   ],
   "source": [
    "general_example_1.number_of_days"
   ]
  },
  {
   "cell_type": "markdown",
   "id": "6f42511a-b227-4b1b-aea3-92b0e7178d1d",
   "metadata": {},
   "source": [
    "Import the `deadline` function. It compute the deadline given the event date and number of days."
   ]
  },
  {
   "cell_type": "code",
   "execution_count": 6,
   "id": "4054fe9a-4c5c-4b9d-a5f0-f1e08e051080",
   "metadata": {},
   "outputs": [
    {
     "data": {
      "text/plain": [
       "datetime.date(2012, 6, 11)"
      ]
     },
     "execution_count": 6,
     "metadata": {},
     "output_type": "execute_result"
    }
   ],
   "source": [
    "from deadlines.due_dates import deadline\n",
    "\n",
    "deadline(general_example_1.event_date, general_example_1.number_of_days)"
   ]
  },
  {
   "cell_type": "markdown",
   "id": "e01e213b-70a1-4212-a73e-9513de6a916f",
   "metadata": {},
   "source": [
    "Compare the calculated deadline to the date given in the example."
   ]
  },
  {
   "cell_type": "code",
   "execution_count": 7,
   "id": "7e384255-a6de-4922-902a-f414099b245e",
   "metadata": {},
   "outputs": [
    {
     "data": {
      "text/plain": [
       "True"
      ]
     },
     "execution_count": 7,
     "metadata": {},
     "output_type": "execute_result"
    }
   ],
   "source": [
    "deadline(general_example_1.event_date, general_example_1.number_of_days) == general_example_1.deadline_date"
   ]
  },
  {
   "cell_type": "markdown",
   "id": "15f12f0c-0986-4b16-a4e4-7c6650b5105b",
   "metadata": {},
   "source": [
    "## Testing\n",
    "\n",
    "Please test the code on your own examples.\n",
    "\n",
    "The `deadline` function requires the event date to be a valid Python date object.\n",
    "You can create date objects from year, month, and day given as numbers using the `date` function. \n",
    "\n",
    "Here's how to create date objects."
   ]
  },
  {
   "cell_type": "code",
   "execution_count": 8,
   "id": "9abbe95b-5112-4ffd-82e2-3533695230e3",
   "metadata": {},
   "outputs": [
    {
     "data": {
      "text/plain": [
       "datetime.date(2012, 5, 31)"
      ]
     },
     "execution_count": 8,
     "metadata": {},
     "output_type": "execute_result"
    }
   ],
   "source": [
    "from datetime import date\n",
    "\n",
    "date(2012, 5, 31)"
   ]
  },
  {
   "cell_type": "markdown",
   "id": "1cfb8fd3-8735-4c51-a8c3-2c307733e10d",
   "metadata": {},
   "source": [
    "You can also create date obects from text strings in the YYYY-MM-DD format, also known as ISO format, using the `parse_date` function."
   ]
  },
  {
   "cell_type": "code",
   "execution_count": 9,
   "id": "899f1042-6d0e-4763-a8dd-54df0eca953e",
   "metadata": {},
   "outputs": [
    {
     "data": {
      "text/plain": [
       "datetime.date(2012, 5, 31)"
      ]
     },
     "execution_count": 9,
     "metadata": {},
     "output_type": "execute_result"
    }
   ],
   "source": [
    "from deadlines.dates import parse_date\n",
    "\n",
    "parse_date('2012-05-31')"
   ]
  },
  {
   "cell_type": "markdown",
   "id": "e9fb5d96-54ec-4c64-b64a-3a86a8f8767f",
   "metadata": {},
   "source": [
    "## Going Live\n",
    "\n",
    "This notebook already contains everything we need so I'll try to run it on Colab."
   ]
  }
 ],
 "metadata": {
  "kernelspec": {
   "display_name": "Python 3 (ipykernel)",
   "language": "python",
   "name": "python3"
  },
  "language_info": {
   "codemirror_mode": {
    "name": "ipython",
    "version": 3
   },
   "file_extension": ".py",
   "mimetype": "text/x-python",
   "name": "python",
   "nbconvert_exporter": "python",
   "pygments_lexer": "ipython3",
   "version": "3.13.2"
  }
 },
 "nbformat": 4,
 "nbformat_minor": 5
}
