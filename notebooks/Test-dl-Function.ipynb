{
 "cells": [
  {
   "cell_type": "markdown",
   "id": "d954f4c5-24ea-4c50-ba5b-60287cf162df",
   "metadata": {},
   "source": [
    "# Test dl Function\n",
    "*Arthur Ryman, lasted updated 2025-04-01*"
   ]
  },
  {
   "cell_type": "markdown",
   "id": "b71d8899-6411-4929-b6a3-7b4c92e1bc77",
   "metadata": {},
   "source": [
    "## Introduction\n",
    "\n",
    "This Jupyter notebook is hosted in the public GitHub repository\n",
    "[`agryman/federal-court-deadlines`](https://github.com/agryman/federal-court-notebooks).\n",
    "It lets you calculate Federal Court of Canada deadlines using Python.\n",
    "Refer to the Federal Court \n",
    "[Guideline](https://www.fct-cf.gc.ca/en/pages/representing-yourself/deadlines-calculator/guideline) \n",
    "document for an explanation of the rules used to calculate deadlines."
   ]
  },
  {
   "cell_type": "markdown",
   "id": "e1df9f56-935f-48ed-aa39-89c56feb556f",
   "metadata": {},
   "source": [
    "## The `deadline` Package\n",
    "\n",
    "This notebook uses the `deadlines` package which is hosted in the public GitHub repository\n",
    "[`agryman/federal-court-deadlines`](https://github.com/agryman/federal-court-deadlines).\n",
    "You can install the `deadlines` package into your local Python environment using the following command:\n",
    "```\n",
    "pip install git+https://github.com/agryman/federal-court-deadlines.git\n",
    "```"
   ]
  },
  {
   "cell_type": "markdown",
   "id": "30030b71-bfba-4f99-b82a-45d444b11989",
   "metadata": {},
   "source": [
    "## Google Colab\n",
    "\n",
    "[Google Colab](https://colab.research.google.com/) is a free website that let's you run Jupyter notebooks in the Cloud without installing anything on your laptop or device.\n",
    "\n",
    "To open this notebook in Colab, click here: [![Open In Colab](https://colab.research.google.com/assets/colab-badge.svg)\n",
    "](https://colab.research.google.com/github/agryman/federal-court-notebooks/blob/main/notebooks/Test-dl-Function.ipynb)\n",
    "\n",
    "When you open this notebook on Colab, the following code installs the `deadlines` package into its runtime environment."
   ]
  },
  {
   "cell_type": "code",
   "execution_count": 1,
   "id": "98e79b36-56d7-4f78-8f01-e4c5a56409a8",
   "metadata": {},
   "outputs": [],
   "source": [
    "import sys\n",
    "IN_COLAB = 'google.colab' in sys.modules\n",
    "if IN_COLAB:\n",
    "    !pip install git+https://github.com/agryman/federal-court-deadlines.git"
   ]
  },
  {
   "cell_type": "markdown",
   "id": "97ca53a1-587a-43ca-9e3f-fbc53fdc8c90",
   "metadata": {},
   "source": [
    "## The Deadline Calculator Function `dl`\n",
    "\n",
    "This notebook shows how to use the `dl` function to calculate Federal Court deadlines.\n",
    "It represents dates as strings in ISO YYYY-MM-DD format.\n",
    "For example, July 12, 1990 is represented as 1990-07-12.\n",
    "You surround this in single or double quotes to make it a Python string."
   ]
  },
  {
   "cell_type": "code",
   "execution_count": 2,
   "id": "86498d1e-19bd-43b5-a41b-6d7ecdc7e017",
   "metadata": {},
   "outputs": [
    {
     "data": {
      "text/plain": [
       "'1990-07-12'"
      ]
     },
     "execution_count": 2,
     "metadata": {},
     "output_type": "execute_result"
    }
   ],
   "source": [
    "'1990-07-12'"
   ]
  },
  {
   "cell_type": "markdown",
   "id": "4ceb3c19-3aa8-4bc8-8196-befad59ae13c",
   "metadata": {},
   "source": [
    "Import the `dl` function as follows and print its help."
   ]
  },
  {
   "cell_type": "code",
   "execution_count": 3,
   "id": "35895b04-bbcb-4a43-8120-1c0bf9e4557f",
   "metadata": {},
   "outputs": [
    {
     "ename": "ImportError",
     "evalue": "cannot import name 'dl' from 'deadlines.due_dates' (/Users/arthurryman/Documents/repositories/GitHub/agryman/federal-court-notebooks/venv/lib/python3.11/site-packages/deadlines/due_dates.py)",
     "output_type": "error",
     "traceback": [
      "\u001b[31m---------------------------------------------------------------------------\u001b[39m",
      "\u001b[31mImportError\u001b[39m                               Traceback (most recent call last)",
      "\u001b[36mCell\u001b[39m\u001b[36m \u001b[39m\u001b[32mIn[3]\u001b[39m\u001b[32m, line 1\u001b[39m\n\u001b[32m----> \u001b[39m\u001b[32m1\u001b[39m \u001b[38;5;28;01mfrom\u001b[39;00m\u001b[38;5;250m \u001b[39m\u001b[34;01mdeadlines\u001b[39;00m\u001b[34;01m.\u001b[39;00m\u001b[34;01mdue_dates\u001b[39;00m\u001b[38;5;250m \u001b[39m\u001b[38;5;28;01mimport\u001b[39;00m dl\n\u001b[32m      3\u001b[39m help(dl)\n",
      "\u001b[31mImportError\u001b[39m: cannot import name 'dl' from 'deadlines.due_dates' (/Users/arthurryman/Documents/repositories/GitHub/agryman/federal-court-notebooks/venv/lib/python3.11/site-packages/deadlines/due_dates.py)"
     ]
    }
   ],
   "source": [
    "from deadlines.due_dates import dl\n",
    "\n",
    "help(dl)"
   ]
  },
  {
   "cell_type": "markdown",
   "id": "40543a1e-8385-4eec-939f-838b0ea5215d",
   "metadata": {},
   "source": [
    "The `dl` function accepts three arguments but only requires the first two, namely the event date as on ISO string and the number of days between the event and the required action.\n",
    "The optional third argument is a `True`/`False` value used when the court is located in Quebec. Its default value is `False`."
   ]
  },
  {
   "cell_type": "markdown",
   "id": "ad29ffc0-1e07-4e26-a56e-beb2161c71d1",
   "metadata": {},
   "source": [
    "## The Guideline Examples\n",
    "\n",
    "All of the examples defined in the Guideline document are included in the `deadlines` package. Import and print them."
   ]
  },
  {
   "cell_type": "code",
   "execution_count": null,
   "id": "f3d2d859-937b-4a00-9cbf-6eb147672541",
   "metadata": {},
   "outputs": [],
   "source": [
    "from deadlines.examples import guideline_examples\n",
    "\n",
    "guideline_examples"
   ]
  },
  {
   "cell_type": "markdown",
   "id": "04c3d72e-eba1-47ff-8781-4c5966073539",
   "metadata": {},
   "source": [
    "Print the examples again with better formatting."
   ]
  },
  {
   "cell_type": "code",
   "execution_count": null,
   "id": "e3e61e4f-8ece-41f4-9334-807bbb9f67d8",
   "metadata": {},
   "outputs": [],
   "source": [
    "for ex in guideline_examples:\n",
    "    print(ex.description, ex.event_date, ex.number_of_days, ex.deadline_date)"
   ]
  },
  {
   "cell_type": "markdown",
   "id": "fafa7d5d-de0a-4435-825c-eb957607fa38",
   "metadata": {},
   "source": [
    "Test the `dl` function on the examples."
   ]
  },
  {
   "cell_type": "code",
   "execution_count": null,
   "id": "8d65a699-0a46-4984-889d-9817e7af5559",
   "metadata": {},
   "outputs": [],
   "source": [
    "# General Example 1 - 10 Days\n",
    "dl('2012-05-31', 10)"
   ]
  },
  {
   "cell_type": "code",
   "execution_count": null,
   "id": "54b31a21-6ca3-4d4a-a4e3-bf38b004dce5",
   "metadata": {},
   "outputs": [],
   "source": [
    "# General Example 2 - 20 Days\n",
    "dl('2012-05-01', 20)"
   ]
  },
  {
   "cell_type": "code",
   "execution_count": null,
   "id": "6b6ecaa8-e1c3-4355-af86-45008697d354",
   "metadata": {},
   "outputs": [],
   "source": [
    "# General Example 3 - 30 Days\n",
    "dl('2012-05-04', 30)"
   ]
  },
  {
   "cell_type": "code",
   "execution_count": null,
   "id": "fc556819-b3c4-4e5b-910b-4e92d74348fa",
   "metadata": {},
   "outputs": [],
   "source": [
    "# Holidays and Weekends Example 1 - 30 Days\n",
    "dl('2012-05-04', 30)"
   ]
  },
  {
   "cell_type": "code",
   "execution_count": null,
   "id": "14dc7225-a75f-4327-84ce-2dbc83597dc1",
   "metadata": {},
   "outputs": [],
   "source": [
    "# Holidays and Weekends Example 2 - 4 Days\n",
    "dl('2012-04-03', 4)"
   ]
  },
  {
   "cell_type": "code",
   "execution_count": null,
   "id": "8cba150a-8606-4514-b4dc-9699d388f74c",
   "metadata": {},
   "outputs": [],
   "source": [
    "# Summer Recess Example 1 - 30 Days\n",
    "dl('2012-05-04', 30)"
   ]
  },
  {
   "cell_type": "code",
   "execution_count": null,
   "id": "6856b4e3-495c-4cf6-b5aa-94cd0c5529a2",
   "metadata": {},
   "outputs": [],
   "source": [
    "# Seasonal Recess Example 1 - 30 Days\n",
    "dl('2012-12-14', 30)"
   ]
  },
  {
   "cell_type": "code",
   "execution_count": null,
   "id": "31cddf65-f4f3-4b8a-a664-ffc1b780ebd5",
   "metadata": {},
   "outputs": [],
   "source": [
    "# Seasonal Recess Example 2 - 10 Days\n",
    "dl('2012-12-14', 10)"
   ]
  },
  {
   "cell_type": "code",
   "execution_count": null,
   "id": "2b1302b7-e268-400d-9589-7e85435d2059",
   "metadata": {},
   "outputs": [],
   "source": [
    "# Seasonal Recess Example 3 - 4 Days\n",
    "dl('2021-12-16', 4)"
   ]
  },
  {
   "cell_type": "markdown",
   "id": "92e7b9de-31b9-4250-9f49-cf8d6dce43e7",
   "metadata": {},
   "source": [
    "## Your Examples\n",
    "\n",
    "Create your own examples here and report any problems."
   ]
  },
  {
   "cell_type": "code",
   "execution_count": null,
   "id": "9a2a2502-ff02-403f-a42a-73c2ac9a211c",
   "metadata": {},
   "outputs": [],
   "source": [
    "dl('1990-07-12', 30)"
   ]
  }
 ],
 "metadata": {
  "kernelspec": {
   "display_name": "Python 3 (ipykernel)",
   "language": "python",
   "name": "python3"
  },
  "language_info": {
   "codemirror_mode": {
    "name": "ipython",
    "version": 3
   },
   "file_extension": ".py",
   "mimetype": "text/x-python",
   "name": "python",
   "nbconvert_exporter": "python",
   "pygments_lexer": "ipython3",
   "version": "3.11.11"
  }
 },
 "nbformat": 4,
 "nbformat_minor": 5
}
